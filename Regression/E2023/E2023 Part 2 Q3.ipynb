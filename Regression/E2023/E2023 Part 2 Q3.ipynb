{
 "cells": [
  {
   "cell_type": "markdown",
   "id": "1b51002e",
   "metadata": {},
   "source": [
    "![image.png](problem.png)\n",
    "![image.png](problem2.png)"
   ]
  },
  {
   "cell_type": "code",
   "execution_count": 4,
   "id": "dc227464",
   "metadata": {},
   "outputs": [
    {
     "name": "stdout",
     "output_type": "stream",
     "text": [
      "a. Intercept (b0): -0.014\n",
      "a. Slope (b1): 0.3012\n",
      "b. Residual at x=30 (e2): 0.3891\n",
      "b. Residual at x=70 (e6): -0.1975\n",
      "c. Proportion Es / b1: 0.0307\n"
     ]
    }
   ],
   "source": [
    "import numpy as np\n",
    "import math\n",
    "from scipy.stats import t\n",
    "\n",
    "# === Given Data ===\n",
    "x = np.array([10, 20, 30, 40, 50, 60, 70, 80, 90, 100])  # Weights [kg]\n",
    "y = np.array([3.11, 5.68, 9.41, 11.58, 15.42, 18.18, 20.87, 24.25, 26.58, 30.42])  # Voltages [mV]\n",
    "\n",
    "n = len(x)\n",
    "df = n - 2  # degrees of freedom for t-distribution\n",
    "\n",
    "# === a) Least Squares Estimation ===\n",
    "x_mean = np.mean(x)\n",
    "y_mean = np.mean(y)\n",
    "\n",
    "Sxy = np.sum(x * y) - n * x_mean * y_mean\n",
    "Sxx = np.sum(x**2) - n * x_mean**2\n",
    "\n",
    "b1 = Sxy / Sxx\n",
    "b0 = y_mean - b1 * x_mean\n",
    "\n",
    "# === Regression Predictions ===\n",
    "def predict(x_val):\n",
    "    return b0 + b1 * x_val\n",
    "\n",
    "yhat = predict(x)\n",
    "residuals = y - yhat\n",
    "\n",
    "# === b) Residuals for index 2 (x=30) and 6 (x=70) ===\n",
    "e_2 = residuals[2]\n",
    "e_6 = residuals[6]\n",
    "\n",
    "# === c) Proportion Es / b1 using t-multiplier ===\n",
    "SSe = np.sum((y - yhat) ** 2)\n",
    "var_hat = SSe / df\n",
    "SE_b1 = math.sqrt(var_hat / Sxx)\n",
    "\n",
    "# Use t-multiplier for 95% confidence (two-tailed, df = 8)\n",
    "t_critical = t.ppf(1 - 0.025, df)\n",
    "Es = t_critical * SE_b1\n",
    "\n",
    "slope_error_ratio = Es / b1\n",
    "\n",
    "# === Final Outputs ===\n",
    "print(f\"a. Intercept (b0): {round(b0, 4)}\")\n",
    "print(f\"a. Slope (b1): {round(b1, 4)}\")\n",
    "\n",
    "print(f\"b. Residual at x=30 (e2): {round(e_2, 4)}\")\n",
    "print(f\"b. Residual at x=70 (e6): {round(e_6, 4)}\")\n",
    "\n",
    "print(f\"c. Proportion Es / b1: {round(slope_error_ratio, 4)}\")\n"
   ]
  }
 ],
 "metadata": {
  "kernelspec": {
   "display_name": "base",
   "language": "python",
   "name": "python3"
  },
  "language_info": {
   "codemirror_mode": {
    "name": "ipython",
    "version": 3
   },
   "file_extension": ".py",
   "mimetype": "text/x-python",
   "name": "python",
   "nbconvert_exporter": "python",
   "pygments_lexer": "ipython3",
   "version": "3.12.4"
  }
 },
 "nbformat": 4,
 "nbformat_minor": 5
}
