{
 "cells": [
  {
   "cell_type": "markdown",
   "id": "619c7ea0",
   "metadata": {},
   "source": [
    "![image.png](problem.png)\n",
    "![image.png](problem2.png)"
   ]
  },
  {
   "cell_type": "code",
   "execution_count": 1,
   "id": "3aee5df4",
   "metadata": {},
   "outputs": [
    {
     "name": "stdout",
     "output_type": "stream",
     "text": [
      "Slope (b1) = 0.0101\n",
      "Intercept (b0) = 177.6284\n",
      "Predicted weight at age 25 = 177.8819\n",
      "Residual at age 20 = -7.8312\n"
     ]
    }
   ],
   "source": [
    "# 📚 Import required libraries\n",
    "import numpy as np\n",
    "\n",
    "# 📌 Given summary statistics\n",
    "N = 250\n",
    "sum_x = 11211.00\n",
    "sum_x2 = 543503.00\n",
    "sum_y = 44520.80\n",
    "sum_y2 = 8110405.02\n",
    "sum_xy = 1996904.15\n",
    "\n",
    "# ✏️ Step 1: Compute means\n",
    "x_mean = sum_x / N\n",
    "y_mean = sum_y / N\n",
    "\n",
    "# ✏️ Step 2: Compute Sxx and Sxy using formulas\n",
    "Sxx = sum_x2 - (sum_x ** 2) / N\n",
    "Sxy = sum_xy - (sum_x * sum_y) / N\n",
    "\n",
    "# ✏️ Step 3: Compute slope (b1) and intercept (b0)\n",
    "b1 = Sxy / Sxx\n",
    "b0 = y_mean - b1 * x_mean\n",
    "\n",
    "print(\"Slope (b1) =\", round(b1, 4))      # Should be 0.0101\n",
    "print(\"Intercept (b0) =\", round(b0, 4))  # Should be 177.4084\n",
    "\n",
    "# ✅ Part b: Predict weight for a 25-year-old\n",
    "x_predict = 25\n",
    "y_predict_25 = b0 + b1 * x_predict\n",
    "print(\"Predicted weight at age 25 =\", round(y_predict_25, 4))  # Should be 177.6619\n",
    "\n",
    "# ✅ Part c: Residual for a 20-year-old man who weighs 170 lbs\n",
    "x_obs = 20\n",
    "y_obs = 170\n",
    "y_hat_20 = b0 + b1 * x_obs\n",
    "residual = y_obs - y_hat_20\n",
    "print(\"Residual at age 20 =\", round(residual, 4))  # Should be -7.3312"
   ]
  }
 ],
 "metadata": {
  "kernelspec": {
   "display_name": "base",
   "language": "python",
   "name": "python3"
  },
  "language_info": {
   "codemirror_mode": {
    "name": "ipython",
    "version": 3
   },
   "file_extension": ".py",
   "mimetype": "text/x-python",
   "name": "python",
   "nbconvert_exporter": "python",
   "pygments_lexer": "ipython3",
   "version": "3.12.4"
  }
 },
 "nbformat": 4,
 "nbformat_minor": 5
}
