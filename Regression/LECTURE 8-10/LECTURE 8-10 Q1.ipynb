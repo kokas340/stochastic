{
 "cells": [
  {
   "cell_type": "markdown",
   "id": "2b52abab",
   "metadata": {},
   "source": [
    "![image.png](problem.png)\n",
    "![image.png](problem2.png)"
   ]
  },
  {
   "cell_type": "code",
   "execution_count": 28,
   "id": "23778f96",
   "metadata": {},
   "outputs": [
    {
     "name": "stdout",
     "output_type": "stream",
     "text": [
      "x̄ = 4.525\n",
      "ȳ = 9.600000000000001\n",
      "Sxy = 194.07999999999998\n",
      "Sxx = 97.31499999999998\n",
      "b1 = 1.9943482505266406\n",
      "b0 = 0.5755741663669518\n",
      "σ̂² = 3.5094819229649445\n",
      "Es = 0.4646756720887455\n",
      "Ei = 2.654758443765458\n",
      "Ep = 5.001581230188835\n",
      "T0 = 10.501936431464122\n",
      "Correlation Coefficient = 0.9738609483278211\n",
      "ŷ_x=2 = 4.564270667420233\n"
     ]
    }
   ],
   "source": [
    "import numpy as np\n",
    "import math\n",
    "from scipy.stats import t\n",
    "\n",
    "# === Given Data ===\n",
    "x = np.array([1.1, 0.0, 5.3, 3.8, 9.2, 6.9, 0.7, 9.2]) \n",
    "y = np.array([4.5, -0.1, 11.6, 5.9, 16.4, 16.1, 1.8, 20.6])\n",
    "\n",
    "n = len(x)\n",
    "df = n - 2\n",
    "\n",
    "# Means\n",
    "x_mean = np.mean(x)\n",
    "y_mean = np.mean(y)\n",
    "\n",
    "print(f\"x̄ = {x_mean}\")\n",
    "print(f\"ȳ = {y_mean}\")\n",
    "\n",
    "# Regression coefficients\n",
    "Sxy = np.sum((x - x_mean) * (y - y_mean))\n",
    "Sxx = np.sum((x - x_mean) ** 2)\n",
    "b1 = Sxy / Sxx\n",
    "b0 = y_mean - b1 * x_mean\n",
    "print(f\"Sxy = {Sxy}\")\n",
    "print(f\"Sxx = {Sxx}\")\n",
    "print(f\"b1 = {b1}\")\n",
    "print(f\"b0 = {b0}\")\n",
    "\n",
    "# Predicted values and residuals\n",
    "yhat = b0 + b1 * x\n",
    "residuals = y - yhat\n",
    "\n",
    "# Variance estimate\n",
    "SSe = np.sum(residuals ** 2)\n",
    "var_hat = SSe / df\n",
    "print(f\"σ̂² = {var_hat}\")\n",
    "sigma_hat = math.sqrt(var_hat)\n",
    "\n",
    "# t-critical for 95% CI\n",
    "t_crit = t.ppf(1 - 0.025, df)\n",
    "\n",
    "# Error on slope and intercept\n",
    "SE_b1 = math.sqrt(var_hat / Sxx)\n",
    "SE_b0 = math.sqrt(var_hat * (1/n + x_mean**2 / Sxx))\n",
    "Es = t_crit * SE_b1\n",
    "Ei = t_crit * SE_b0\n",
    "print(f\"Es = {Es}\")\n",
    "print(f\"Ei = {Ei}\")\n",
    "\n",
    "# Prediction interval error at x = 2\n",
    "x0 = 2\n",
    "Ep = t_crit * math.sqrt(var_hat * (1 + 1/n + ((x0 - x_mean)**2 / Sxx)))\n",
    "print(f\"Ep = {Ep}\")\n",
    "\n",
    "# Test statistic for slope\n",
    "T0 = b1 / SE_b1\n",
    "print(f\"T0 = {T0}\")\n",
    "\n",
    "# Correlation coefficient\n",
    "r = Sxy / (math.sqrt(Sxx * np.sum((y - y_mean)**2)))\n",
    "print(f\"Correlation Coefficient = {r}\")\n",
    "\n",
    "# Prediction at x = 2\n",
    "y_pred_2 = b0 + b1 * 2\n",
    "print(f\"ŷ_x=2 = {y_pred_2}\")\n",
    "\n"
   ]
  }
 ],
 "metadata": {
  "kernelspec": {
   "display_name": "base",
   "language": "python",
   "name": "python3"
  },
  "language_info": {
   "codemirror_mode": {
    "name": "ipython",
    "version": 3
   },
   "file_extension": ".py",
   "mimetype": "text/x-python",
   "name": "python",
   "nbconvert_exporter": "python",
   "pygments_lexer": "ipython3",
   "version": "3.12.4"
  }
 },
 "nbformat": 4,
 "nbformat_minor": 5
}
