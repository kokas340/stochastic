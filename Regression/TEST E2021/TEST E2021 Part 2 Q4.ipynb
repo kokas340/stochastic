{
 "cells": [
  {
   "cell_type": "markdown",
   "id": "d4d896f3",
   "metadata": {},
   "source": [
    "![image.png](problem.png)"
   ]
  },
  {
   "cell_type": "code",
   "execution_count": 20,
   "id": "a3ad580e",
   "metadata": {},
   "outputs": [
    {
     "name": "stdout",
     "output_type": "stream",
     "text": [
      "Slope (b1): 3.8984\n",
      "95% Confidence Interval for b1: (1.867, 5.9298)\n"
     ]
    }
   ],
   "source": [
    "import numpy as np\n",
    "import math\n",
    "from scipy import stats\n",
    "\n",
    "# Input data (x, y)\n",
    "x = np.array([0.93, 0.47, 0.26, 0.16, 0.74, 0.93, 0.36, 0.48, 0.49, 0.84, 0.77, 0.97])\n",
    "y = np.array([8.56, 5.98, 6.83, 5.26, 7.51, 8.41, 6.72, 6.82, 5.14, 7.56, 6.64, 9.78])\n",
    "n = len(x)\n",
    "\n",
    "# Means\n",
    "x_mean = np.mean(x)\n",
    "y_mean = np.mean(y)\n",
    "\n",
    "# Regression coefficients\n",
    "Sxy = np.sum((x - x_mean) * (y - y_mean))\n",
    "Sxx = np.sum((x - x_mean) ** 2)\n",
    "b1 = Sxy / Sxx\n",
    "b0 = y_mean - b1 * x_mean\n",
    "\n",
    "# Predictions and residuals\n",
    "yhat = b0 + b1 * x\n",
    "SSe = np.sum((y - yhat) ** 2)\n",
    "varhat = SSe / (n - 2)\n",
    "\n",
    "# Standard error of the slope\n",
    "sb1 = math.sqrt(varhat / Sxx)\n",
    "\n",
    "# 95% Confidence Interval for slope\n",
    "t_score = stats.t.ppf(1 - 0.025, df=n - 2)\n",
    "lower = b1 - t_score * sb1\n",
    "upper = b1 + t_score * sb1\n",
    "\n",
    "# Rounded results\n",
    "b1_rounded = round(b1, 4)\n",
    "b1_input = int(b1_rounded)  # = 3\n",
    "ci = (round(lower, 4), round(upper, 4))\n",
    "\n",
    "# Output\n",
    "print(\"Slope (b1):\", b1_rounded)\n",
    "print(\"95% Confidence Interval for b1:\", ci)\n"
   ]
  }
 ],
 "metadata": {
  "kernelspec": {
   "display_name": "base",
   "language": "python",
   "name": "python3"
  },
  "language_info": {
   "codemirror_mode": {
    "name": "ipython",
    "version": 3
   },
   "file_extension": ".py",
   "mimetype": "text/x-python",
   "name": "python",
   "nbconvert_exporter": "python",
   "pygments_lexer": "ipython3",
   "version": "3.12.4"
  }
 },
 "nbformat": 4,
 "nbformat_minor": 5
}
