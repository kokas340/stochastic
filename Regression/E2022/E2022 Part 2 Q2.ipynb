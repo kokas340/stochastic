{
 "cells": [
  {
   "cell_type": "code",
   "execution_count": 15,
   "id": "ec819f54",
   "metadata": {},
   "outputs": [],
   "source": [
    "import numpy as np\n",
    "import statsmodels.api as sm"
   ]
  },
  {
   "cell_type": "markdown",
   "id": "5e5a0fa5",
   "metadata": {},
   "source": [
    "![image.png](problem.png)"
   ]
  },
  {
   "cell_type": "markdown",
   "id": "ae6a8f5b",
   "metadata": {},
   "source": [
    "# Done with manual implementation of linear regression"
   ]
  },
  {
   "cell_type": "code",
   "execution_count": 16,
   "id": "2cdeae25",
   "metadata": {},
   "outputs": [
    {
     "name": "stdout",
     "output_type": "stream",
     "text": [
      "Standard error of slope (s(b1)): 0.275\n",
      "Standard error of intercept (s(b0)): 3.6902\n",
      "Predicted heart rate at 5 km/h: 98\n"
     ]
    }
   ],
   "source": [
    "import numpy as np\n",
    "import math\n",
    "\n",
    "# Data\n",
    "y = np.array([122, 132, 145, 161, 178, 190])  \n",
    "x = np.array([8, 10, 12, 14, 16, 18]) \n",
    "n = np.size(x)\n",
    "\n",
    "# Means\n",
    "x_mean = np.mean(x)\n",
    "y_mean = np.mean(y)\n",
    "\n",
    "# Compute slope (b1) and intercept (b0)\n",
    "Sxy = np.sum(x * y) - n * x_mean * y_mean\n",
    "Sxx = np.sum(x * x) - (np.sum(x) ** 2) / n\n",
    "b1 = Sxy / Sxx\n",
    "b0 = y_mean - b1 * x_mean\n",
    "\n",
    "# Regression function\n",
    "def f(x):\n",
    "    return b1 * x + b0\n",
    "\n",
    "# Predicted values\n",
    "yhat = f(x)\n",
    "\n",
    "# Residual sum of squares\n",
    "SSe = np.sum((y - yhat) ** 2)\n",
    "\n",
    "# Variance estimate\n",
    "varhat = SSe / (n - 2)\n",
    "\n",
    "# Standard errors\n",
    "sb1 = math.sqrt(varhat / Sxx)\n",
    "sb0 = math.sqrt(varhat * (1/n + x_mean**2 / Sxx))\n",
    "\n",
    "# Display with 3 and 4 decimal precision\n",
    "print(\"Standard error of slope (s(b1)):\", round(sb1, 3))\n",
    "print(\"Standard error of intercept (s(b0)):\", round(sb0, 4))\n",
    "\n",
    "# Prediction at 5 km/h\n",
    "heart_rate_at_5 = round(f(5))\n",
    "print(\"Predicted heart rate at 5 km/h:\", heart_rate_at_5)"
   ]
  },
  {
   "cell_type": "markdown",
   "id": "098a73fd",
   "metadata": {},
   "source": [
    "# Done with OLS regression model"
   ]
  },
  {
   "cell_type": "code",
   "execution_count": 17,
   "id": "512b3be2",
   "metadata": {},
   "outputs": [
    {
     "name": "stdout",
     "output_type": "stream",
     "text": [
      "Standard error of intercept (s(b0)) = 3.69\n",
      "Standard error of slope (s(b1)) = 0.275\n",
      "Predicted heart rate at 5 km/h = 98 bpm\n"
     ]
    }
   ],
   "source": [
    "# Speed (x in km/h) and Heart Rate (y in bpm)\n",
    "x = np.array([8, 10, 12, 14, 16, 18])\n",
    "y = np.array([122, 132, 145, 161, 178, 190])\n",
    "\n",
    "# Add constant term for intercept in the model\n",
    "X = sm.add_constant(x)\n",
    "\n",
    "# Fit linear regression model\n",
    "model = sm.OLS(y, X)\n",
    "results = model.fit()\n",
    "\n",
    "# Get standard errors of the intercept (b0) and slope (b1)\n",
    "se_b0, se_b1 = np.round(results.bse, 3)\n",
    "print(f\"Standard error of intercept (s(b0)) = {se_b0}\")\n",
    "print(f\"Standard error of slope (s(b1)) = {se_b1}\")\n",
    "\n",
    "# Predict heart rate at walking speed of 5 km/h\n",
    "# Input must include constant term and predictor\n",
    "x_pred = np.array([[1, 5]])  # constant + speed\n",
    "y_pred = int(round(results.predict(x_pred)[0]))\n",
    "print(f\"Predicted heart rate at 5 km/h = {y_pred} bpm\")"
   ]
  }
 ],
 "metadata": {
  "kernelspec": {
   "display_name": "base",
   "language": "python",
   "name": "python3"
  },
  "language_info": {
   "codemirror_mode": {
    "name": "ipython",
    "version": 3
   },
   "file_extension": ".py",
   "mimetype": "text/x-python",
   "name": "python",
   "nbconvert_exporter": "python",
   "pygments_lexer": "ipython3",
   "version": "3.12.4"
  }
 },
 "nbformat": 4,
 "nbformat_minor": 5
}
