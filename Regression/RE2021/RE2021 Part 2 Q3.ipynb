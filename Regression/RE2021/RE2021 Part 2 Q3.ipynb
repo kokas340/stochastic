{
 "cells": [
  {
   "cell_type": "code",
   "execution_count": 36,
   "id": "2be5aaa1",
   "metadata": {},
   "outputs": [],
   "source": [
    "import math\n",
    "import statsmodels.api as sm\n",
    "from scipy import stats\n",
    "from sympy import latex\n",
    "import numpy as np\n",
    "from IPython.display import display, Math"
   ]
  },
  {
   "cell_type": "markdown",
   "id": "a8f8238a",
   "metadata": {},
   "source": [
    "![image.png](problem.png)\n",
    "![image.png](Q1.png)\n",
    "![image.png](q2.png)"
   ]
  },
  {
   "cell_type": "code",
   "execution_count": 37,
   "id": "0287e591",
   "metadata": {},
   "outputs": [
    {
     "name": "stdout",
     "output_type": "stream",
     "text": [
      "Slope (b1): -59.5\n",
      "Intercept (b0): 118000.9\n",
      "95% Confidence Interval for b1: [-70.971, -48.029]\n"
     ]
    }
   ],
   "source": [
    "# --- a) Historical year and infant mortality data ---\n",
    "x = np.array([1901, 1911, 1921, 1931, 1941, 1951, 1961, 1971, 1981, 1991])  \n",
    "y = np.array([5562, 4357, 3471, 3078, 2309, 1285, 969, 602, 238, 268]) \n",
    "\n",
    "n = len(x)\n",
    "\n",
    "# Means\n",
    "x_mean = np.mean(x)\n",
    "y_mean = np.mean(y)\n",
    "\n",
    "# Covariance and variance components\n",
    "Sxy = np.sum(x * y) - n * x_mean * y_mean\n",
    "Sxx = np.sum(x * x) - (np.sum(x) ** 2) / n\n",
    "\n",
    "# Regression coefficients\n",
    "b1 = Sxy / Sxx\n",
    "b0 = y_mean - b1 * x_mean\n",
    "\n",
    "# Regression prediction function\n",
    "def f(x_val):\n",
    "    return b1 * x_val + b0\n",
    "\n",
    "# Predicted values\n",
    "yhat = f(x)\n",
    "\n",
    "# Residual sum of squares and variance estimate\n",
    "SSe = np.sum((y - yhat) ** 2)\n",
    "varhat = SSe / (n - 2)\n",
    "\n",
    "# --- b) Standard errors and 95% confidence interval for slope ---\n",
    "sb1 = math.sqrt(varhat / Sxx)\n",
    "\n",
    "# t-score for 95% CI, two-tailed\n",
    "from scipy.stats import t\n",
    "t_score = t.ppf(1 - 0.025, df=n - 2)\n",
    "\n",
    "# Confidence interval for b1\n",
    "lower = b1 - t_score * sb1\n",
    "upper = b1 + t_score * sb1\n",
    "\n",
    "# Output results\n",
    "print(f\"Slope (b1): {round(b1, 4)}\")\n",
    "print(f\"Intercept (b0): {round(b0, 4)}\")\n",
    "print(f\"95% Confidence Interval for b1: [{round(lower, 4)}, {round(upper, 4)}]\")"
   ]
  }
 ],
 "metadata": {
  "kernelspec": {
   "display_name": "base",
   "language": "python",
   "name": "python3"
  },
  "language_info": {
   "codemirror_mode": {
    "name": "ipython",
    "version": 3
   },
   "file_extension": ".py",
   "mimetype": "text/x-python",
   "name": "python",
   "nbconvert_exporter": "python",
   "pygments_lexer": "ipython3",
   "version": "3.12.4"
  }
 },
 "nbformat": 4,
 "nbformat_minor": 5
}
