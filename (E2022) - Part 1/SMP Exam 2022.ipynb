{
 "cells": [
  {
   "cell_type": "code",
   "execution_count": 2,
   "metadata": {},
   "outputs": [],
   "source": [
    "from sympy import Rational as R\n",
    "from fractions import Fraction\n",
    "from scipy.stats import binom\n",
    "from scipy.stats import poisson\n",
    "from scipy.stats import hypergeom\n",
    "from scipy.stats import expon\n",
    "from scipy.stats import geom\n",
    "import math\n",
    "from scipy import stats\n",
    "import numpy as np\n",
    "from sympy import *\n",
    "import sympy as sp\n",
    "import pandas as pd\n",
    "from matplotlib import pyplot as plt\n",
    "import numpy as np\n",
    "from sklearn import linear_model\n",
    "from sympy import Rational as R\n",
    "from IPython.display import display, Latex, HTML, Math\n",
    "x, y, z, u, c = symbols('x y z u c')\n",
    "init_printing()\n",
    "%matplotlib inline"
   ]
  },
  {
   "cell_type": "code",
   "execution_count": 3,
   "metadata": {},
   "outputs": [
    {
     "data": {
      "image/png": "[encoded data removed]",
      "text/latex": [
       "$\\displaystyle 0.8$"
      ],
      "text/plain": [
       "0.8"
      ]
     },
     "metadata": {},
     "output_type": "display_data"
    },
    {
     "data": {
      "image/png": "[encoded data removed]",
      "text/latex": [
       "$\\displaystyle 0.61$"
      ],
      "text/plain": [
       "0.61"
      ]
     },
     "metadata": {},
     "output_type": "display_data"
    }
   ],
   "source": [
    "#1a\n",
    "display(0.3+0.5)\n",
    "varX = 1*0.3 + 2**2 * 0.5 - (0.3+2*0.5)**2\n",
    "display(round(varX, 2))"
   ]
  },
  {
   "cell_type": "code",
   "execution_count": 4,
   "metadata": {},
   "outputs": [
    {
     "data": {
      "image/png": "[encoded data removed]",
      "text/latex": [
       "$\\displaystyle 0.15$"
      ],
      "text/plain": [
       "0.15"
      ]
     },
     "metadata": {},
     "output_type": "display_data"
    },
    {
     "data": {
      "image/png": "[encoded data removed]",
      "text/latex": [
       "$\\displaystyle 0.85$"
      ],
      "text/plain": [
       "0.85"
      ]
     },
     "metadata": {},
     "output_type": "display_data"
    }
   ],
   "source": [
    "#1b\n",
    "display((0.2+0.3)*0.3)\n",
    "display(0.7+0.5-0.7*0.5)"
   ]
  },
  {
   "cell_type": "code",
   "execution_count": 5,
   "metadata": {},
   "outputs": [
    {
     "data": {
      "image/png": "[encoded data removed]",
      "text/latex": [
       "$\\displaystyle -3.46$"
      ],
      "text/plain": [
       "-3.46"
      ]
     },
     "execution_count": 5,
     "metadata": {},
     "output_type": "execute_result"
    }
   ],
   "source": [
    "# 1c\n",
    "varY = 0.4+0.3*4 -(0.4+0.6)**2\n",
    "round(14*varX-20*varY, 3)"
   ]
  },
  {
   "cell_type": "code",
   "execution_count": 22,
   "metadata": {},
   "outputs": [
    {
     "data": {
      "image/png": "[encoded data removed]",
      "text/latex": [
       "$\\displaystyle \\frac{5}{12}$"
      ],
      "text/plain": [
       "5/12"
      ]
     },
     "execution_count": 22,
     "metadata": {},
     "output_type": "execute_result"
    }
   ],
   "source": [
    "#2a\n",
    "x, y, z, u, c = symbols('x y z u c')\n",
    "fxy = 2*(x+y)\n",
    "fy = sp.integrate(fxy, (x, y, 1))\n",
    "fy\n",
    "sp.integrate(y*fy, (y, 0, 1))"
   ]
  },
  {
   "cell_type": "code",
   "execution_count": 23,
   "metadata": {},
   "outputs": [
    {
     "data": {
      "image/png": "[encoded data removed]",
      "text/latex": [
       "$\\displaystyle \\frac{1}{3}$"
      ],
      "text/plain": [
       "1/3"
      ]
     },
     "execution_count": 23,
     "metadata": {},
     "output_type": "execute_result"
    }
   ],
   "source": [
    "#2b\n",
    "sp.integrate(x*y*fxy, (y, 0, x), (x, 0, 1))"
   ]
  },
  {
   "cell_type": "code",
   "execution_count": 26,
   "metadata": {},
   "outputs": [
    {
     "data": {
      "image/png": "[encoded data removed]",
      "text/latex": [
       "$\\displaystyle 3$"
      ],
      "text/plain": [
       "3"
      ]
     },
     "execution_count": 26,
     "metadata": {},
     "output_type": "execute_result"
    }
   ],
   "source": [
    "#3a\n",
    "sp.integrate(E**(2*x) * 3*E**(-3*x), (x, 0, oo))"
   ]
  },
  {
   "cell_type": "code",
   "execution_count": 8,
   "metadata": {},
   "outputs": [
    {
     "data": {
      "image/png": "[encoded data removed]",
      "text/latex": [
       "$\\displaystyle \\frac{3}{2 y^{\\frac{5}{2}}}$"
      ],
      "text/plain": [
       "  3   \n",
       "──────\n",
       "   5/2\n",
       "2⋅y   "
      ]
     },
     "execution_count": 8,
     "metadata": {},
     "output_type": "execute_result"
    }
   ],
   "source": [
    "# 3b\n",
    "x, y, z, u, c = symbols('x y z u c')\n",
    "X = (solve((E**(2*x))-y, x))[1]\n",
    "Fy = 1-E**(-3*X)-1\n",
    "fy = sp.diff(Fy)\n",
    "fy"
   ]
  },
  {
   "cell_type": "code",
   "execution_count": 10,
   "metadata": {},
   "outputs": [
    {
     "data": {
      "image/png": "[encoded data removed]",
      "text/latex": [
       "$\\displaystyle 0.62$"
      ],
      "text/plain": [
       "0.620000000000000"
      ]
     },
     "execution_count": 10,
     "metadata": {},
     "output_type": "execute_result"
    }
   ],
   "source": [
    "# 4a\n",
    "# Remeber the memmoryless property!\n",
    "P = Matrix([[0.3, 0.3, 0.4], [0, 0.4, 0.6], [0, 0.2, 0.8]])\n",
    "(P**2)[0,2]"
   ]
  },
  {
   "cell_type": "code",
   "execution_count": 29,
   "metadata": {},
   "outputs": [
    {
     "data": {
      "image/png": "[encoded data removed]",
      "text/latex": [
       "$\\displaystyle \\left[\\begin{matrix}0.375 & 0.297 & 0.328\\end{matrix}\\right]$"
      ],
      "text/plain": [
       "[0.375  0.297  0.328]"
      ]
     },
     "execution_count": 29,
     "metadata": {},
     "output_type": "execute_result"
    }
   ],
   "source": [
    "# 4b\n",
    "P = Matrix([[0.3,0.3,0.4],[0,0.4,0.6],[0.8,0.2,0]])\n",
    "Xt = P.T\n",
    "\n",
    "X = (Xt-eye(P.shape[0]))[0:-1,:].row_join(zeros(P.shape[0]-1,1)).col_join(ones(1,P.shape[0]+1))\n",
    "(X.rref()[0][:,-1].T).evalf(3)"
   ]
  },
  {
   "cell_type": "code",
   "execution_count": 31,
   "metadata": {},
   "outputs": [
    {
     "data": {
      "image/png": "[encoded data removed]",
      "text/latex": [
       "$\\displaystyle 0.5051$"
      ],
      "text/plain": [
       "0.5051"
      ]
     },
     "metadata": {},
     "output_type": "display_data"
    },
    {
     "data": {
      "image/png": "[encoded data removed]",
      "text/latex": [
       "$\\displaystyle 0.5749$"
      ],
      "text/plain": [
       "0.5749"
      ]
     },
     "metadata": {},
     "output_type": "display_data"
    }
   ],
   "source": [
    "# 5b\n",
    "phat = 0.54\n",
    "std = sqrt(0.45)\n",
    "z = stats.norm.ppf(0.95)\n",
    "n = 1000\n",
    "\n",
    "low = phat - z*std/sqrt(n)\n",
    "upper = phat + z*std/sqrt(n)\n",
    "display(round(low, 4), round(upper, 4))\n"
   ]
  },
  {
   "cell_type": "code",
   "execution_count": 49,
   "metadata": {},
   "outputs": [
    {
     "data": {
      "image/png": "[encoded data removed]",
      "text/latex": [
       "$\\displaystyle 1.8856$"
      ],
      "text/plain": [
       "1.8856"
      ]
     },
     "metadata": {},
     "output_type": "display_data"
    },
    {
     "data": {
      "image/png": "[encoded data removed]",
      "text/latex": [
       "$\\displaystyle 2.5758$"
      ],
      "text/plain": [
       "2.5758"
      ]
     },
     "metadata": {},
     "output_type": "display_data"
    },
    {
     "data": {
      "image/png": "[encoded data removed]",
      "text/latex": [
       "$\\displaystyle 0.0593$"
      ],
      "text/plain": [
       "0.0593"
      ]
     },
     "metadata": {},
     "output_type": "display_data"
    }
   ],
   "source": [
    "# 5c\n",
    "display(\n",
    "round((phat-0.5)/(std/sqrt(1000)), 4),\n",
    "round(abs(stats.norm.ppf(0.005)), 4),\n",
    "round(2*(1-stats.norm.cdf(float(test))), 4))"
   ]
  },
  {
   "cell_type": "code",
   "execution_count": 53,
   "metadata": {},
   "outputs": [
    {
     "data": {
      "image/png": "[encoded data removed]",
      "text/latex": [
       "$\\displaystyle 0.0526$"
      ],
      "text/plain": [
       "0.0526"
      ]
     },
     "execution_count": 53,
     "metadata": {},
     "output_type": "execute_result"
    }
   ],
   "source": [
    "# 6\n",
    "round(stats.binom.sf(4, 20000, 0.0001), 4)"
   ]
  },
  {
   "cell_type": "code",
   "execution_count": 85,
   "metadata": {},
   "outputs": [
    {
     "data": {
      "image/png": "[encoded data removed]",
      "text/latex": [
       "$\\displaystyle 0.275$"
      ],
      "text/plain": [
       "0.275"
      ]
     },
     "metadata": {},
     "output_type": "display_data"
    },
    {
     "data": {
      "image/png": "[encoded data removed]",
      "text/latex": [
       "$\\displaystyle 3.6902$"
      ],
      "text/plain": [
       "3.6902"
      ]
     },
     "metadata": {},
     "output_type": "display_data"
    }
   ],
   "source": [
    "# 7a\n",
    "y = np.array([122, 132, 145, 161, 178, 190])  \n",
    "x = np.array([8, 10, 12, 14, 16, 18]) \n",
    "n = np.size(x)\n",
    "\n",
    "x_mean = np.mean(x)\n",
    "y_mean = np.mean(y)\n",
    "\n",
    "Sxy = np.sum(x*y)-n*x_mean*y_mean\n",
    "Sxx = np.sum(x*x)-((np.sum(x))**2)/n\n",
    "b1 = Sxy/Sxx\n",
    "b0 = y_mean-b1*x_mean\n",
    "# Create regression function\n",
    "def f(x):\n",
    "    return b1*x + b0\n",
    "\n",
    "# Find all the predicted values\n",
    "yhat = f(x)\n",
    "\n",
    "SSe = np.sum((y-yhat)**2)\n",
    "\n",
    "varhat = SSe/(n-2)\n",
    "\n",
    "sb1 = math.sqrt((varhat/Sxx))\n",
    "\n",
    "sb0 = math.sqrt(varhat*(1/n + x_mean**2 / Sxx))\n",
    "display (round(sb1, 3), round(sb0, 4) )"
   ]
  },
  {
   "cell_type": "code",
   "execution_count": 88,
   "metadata": {},
   "outputs": [
    {
     "data": {
      "image/png": "[encoded data removed]",
      "text/latex": [
       "$\\displaystyle 98.0$"
      ],
      "text/plain": [
       "98.0"
      ]
     },
     "execution_count": 88,
     "metadata": {},
     "output_type": "execute_result"
    }
   ],
   "source": [
    "# 7b\n",
    "round(f(5))"
   ]
  },
  {
   "cell_type": "code",
   "execution_count": 12,
   "metadata": {},
   "outputs": [
    {
     "data": {
      "image/png": "[encoded data removed]",
      "text/latex": [
       "$\\displaystyle 0.99$"
      ],
      "text/plain": [
       "0.99"
      ]
     },
     "execution_count": 12,
     "metadata": {},
     "output_type": "execute_result"
    }
   ],
   "source": [
    "# 8\n",
    "round(1-2*(1-stats.t.cdf((313.3449-310)*5/6, 24)), 3)"
   ]
  },
  {
   "cell_type": "code",
   "execution_count": 4,
   "metadata": {},
   "outputs": [
    {
     "data": {
      "image/png": "[encoded data removed]",
      "text/latex": [
       "$\\displaystyle 306.643672594273$"
      ],
      "text/plain": [
       "306.64367259427263"
      ]
     },
     "metadata": {},
     "output_type": "display_data"
    },
    {
     "data": {
      "image/png": "[encoded data removed]",
      "text/latex": [
       "$\\displaystyle 313.356327405727$"
      ],
      "text/plain": [
       "313.35632740572737"
      ]
     },
     "metadata": {},
     "output_type": "display_data"
    }
   ],
   "source": [
    "# test\n",
    "display(\n",
    "310-stats.t.ppf(0.995, df=24)*6/5,\n",
    "310+stats.t.ppf(0.995, df=24)*6/5)"
   ]
  },
  {
   "cell_type": "code",
   "execution_count": 30,
   "metadata": {},
   "outputs": [
    {
     "data": {
      "image/png": "[encoded data removed]",
      "text/latex": [
       "$\\displaystyle \\frac{2}{5}$"
      ],
      "text/plain": [
       "2/5"
      ]
     },
     "execution_count": 30,
     "metadata": {},
     "output_type": "execute_result"
    }
   ],
   "source": [
    "# 9\n",
    "fxy = 8*x*y\n",
    "fx = sp.integrate(fxy, (y, 0, x))\n",
    "sp.integrate(fxy, (x, R(1,2), 1), (y, 0, R(1,2))) / sp.integrate(fx, (x, R(1,2), 1))"
   ]
  },
  {
   "cell_type": "code",
   "execution_count": 117,
   "metadata": {},
   "outputs": [
    {
     "data": {
      "image/png": "[encoded data removed]",
      "text/latex": [
       "$\\displaystyle 0.01110899653824231$"
      ],
      "text/plain": [
       "0.01110899653824231"
      ]
     },
     "execution_count": 117,
     "metadata": {},
     "output_type": "execute_result"
    }
   ],
   "source": [
    "# 10a\n",
    "l1 = 0.02\n",
    "l2 = 0.03\n",
    "l = l1+l2\n",
    "\n",
    "stats.poisson.pmf(0,90*l1)*stats.poisson.pmf(0,90*l2)"
   ]
  },
  {
   "cell_type": "code",
   "execution_count": 119,
   "metadata": {},
   "outputs": [
    {
     "data": {
      "image/png": "[encoded data removed]",
      "text/latex": [
       "$\\displaystyle 0.9389005190396673$"
      ],
      "text/plain": [
       "0.9389005190396673"
      ]
     },
     "execution_count": 119,
     "metadata": {},
     "output_type": "execute_result"
    }
   ],
   "source": [
    "# 10b\n",
    "stats.poisson.sf(1, 90*l)"
   ]
  },
  {
   "cell_type": "code",
   "execution_count": 120,
   "metadata": {},
   "outputs": [
    {
     "data": {
      "image/png": "[encoded data removed]",
      "text/latex": [
       "$\\displaystyle 0.0728861262874078$"
      ],
      "text/plain": [
       "0.0728861262874078"
      ]
     },
     "execution_count": 120,
     "metadata": {},
     "output_type": "execute_result"
    }
   ],
   "source": [
    "# 10c\n",
    "stats.poisson.pmf(1,90*l1)*stats.poisson.pmf(2, 90*l2)"
   ]
  }
 ],
 "metadata": {
  "kernelspec": {
   "display_name": "Python 3 (ipykernel)",
   "language": "python",
   "name": "python3"
  },
  "language_info": {
   "codemirror_mode": {
    "name": "ipython",
    "version": 3
   },
   "file_extension": ".py",
   "mimetype": "text/x-python",
   "name": "python",
   "nbconvert_exporter": "python",
   "pygments_lexer": "ipython3",
   "version": "3.11.4"
  }
 },
 "nbformat": 4,
 "nbformat_minor": 4
}
