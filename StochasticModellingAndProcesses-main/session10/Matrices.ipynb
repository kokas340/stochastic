{
 "cells": [
  {
   "cell_type": "code",
   "execution_count": 8,
   "id": "2bc10b74",
   "metadata": {},
   "outputs": [],
   "source": [
    "from sympy import *\n",
    "from sympy import Matrix as M\n",
    "from sympy import Rational as R"
   ]
  },
  {
   "cell_type": "code",
   "execution_count": 7,
   "id": "afe909f6",
   "metadata": {},
   "outputs": [
    {
     "data": {
      "text/latex": [
       "$\\displaystyle \\left[\\begin{matrix}1 & 0 & \\frac{5}{2}\\\\0 & 1 & \\frac{9}{4}\\end{matrix}\\right]$"
      ],
      "text/plain": [
       "Matrix([\n",
       "[1, 0, 5/2],\n",
       "[0, 1, 9/4]])"
      ]
     },
     "execution_count": 7,
     "metadata": {},
     "output_type": "execute_result"
    }
   ],
   "source": [
    "M([[1, -R(2,3), 1], [-R(1,2), 1, 1]]).rref()[0]"
   ]
  },
  {
   "cell_type": "code",
   "execution_count": 6,
   "id": "efbcea8f",
   "metadata": {},
   "outputs": [
    {
     "data": {
      "text/latex": [
       "$\\displaystyle \\left[\\begin{matrix}1 & 0 & 5\\\\0 & 1 & \\frac{7}{2}\\end{matrix}\\right]$"
      ],
      "text/plain": [
       "Matrix([\n",
       "[1, 0,   5],\n",
       "[0, 1, 7/2]])"
      ]
     },
     "execution_count": 6,
     "metadata": {},
     "output_type": "execute_result"
    }
   ],
   "source": [
    "M([[R(2,3), -R(2,3), 1], [-R(1,2), 1, 1]]).rref()[0]"
   ]
  },
  {
   "cell_type": "code",
   "execution_count": 4,
   "id": "b1f902d8",
   "metadata": {},
   "outputs": [
    {
     "data": {
      "text/latex": [
       "$\\displaystyle \\left[\\begin{matrix}1 & 0 & 0.666666666666667\\\\0 & 1 & 0.333333333333333\\end{matrix}\\right]$"
      ],
      "text/plain": [
       "Matrix([\n",
       "[1, 0, 0.666666666666667],\n",
       "[0, 1, 0.333333333333333]])"
      ]
     },
     "execution_count": 4,
     "metadata": {},
     "output_type": "execute_result"
    }
   ],
   "source": [
    "M([[-0.1, 0.2, 0], [1, 1, 1]]).rref()[0]"
   ]
  },
  {
   "cell_type": "code",
   "execution_count": 9,
   "id": "8c72a59b",
   "metadata": {},
   "outputs": [
    {
     "data": {
      "text/latex": [
       "$\\displaystyle \\left[\\begin{matrix}1 & 0 & 0 & 0.638888888888889\\\\0 & 1 & 0 & 0.25\\\\0 & 0 & 1 & 0.111111111111111\\end{matrix}\\right]$"
      ],
      "text/plain": [
       "Matrix([\n",
       "[1, 0, 0, 0.638888888888889],\n",
       "[0, 1, 0,              0.25],\n",
       "[0, 0, 1, 0.111111111111111]])"
      ]
     },
     "execution_count": 9,
     "metadata": {},
     "output_type": "execute_result"
    }
   ],
   "source": [
    "P = M([[0.7, 0.2, 0.1], [0.5, 0.4, 0.1], [0.6, 0.2, 0.2]])\n",
    "\n",
    "# Step 1\n",
    "X = P.T\n",
    "\n",
    "# Step 2\n",
    "X = X - eye(P.shape[0])\n",
    "\n",
    "# Step 3\n",
    "X = X[0:-1,:]\n",
    "\n",
    "# Step 4\n",
    "X = X.row_join(zeros(P.shape[0]-1, 1))\n",
    "\n",
    "# Step 5\n",
    "X = X.col_join(ones(1,P.shape[1]+1))\n",
    "X.rref()[0]\n"
   ]
  },
  {
   "cell_type": "code",
   "execution_count": 10,
   "id": "30f576c2",
   "metadata": {},
   "outputs": [
    {
     "data": {
      "text/latex": [
       "$\\displaystyle \\left[\\begin{matrix}0.638888888888888 & 0.25 & 0.111111111111111\\\\0.638888888888888 & 0.25 & 0.111111111111111\\\\0.638888888888888 & 0.25 & 0.111111111111111\\end{matrix}\\right]$"
      ],
      "text/plain": [
       "Matrix([\n",
       "[0.638888888888888, 0.25, 0.111111111111111],\n",
       "[0.638888888888888, 0.25, 0.111111111111111],\n",
       "[0.638888888888888, 0.25, 0.111111111111111]])"
      ]
     },
     "execution_count": 10,
     "metadata": {},
     "output_type": "execute_result"
    }
   ],
   "source": [
    "P**100"
   ]
  },
  {
   "cell_type": "code",
   "execution_count": 41,
   "id": "f322b2c1",
   "metadata": {},
   "outputs": [
    {
     "data": {
      "text/latex": [
       "$\\displaystyle \\left[\\begin{matrix}1 & 0 & 0 & 0.638888888888889\\\\0 & 1 & 0 & 0.25\\\\0 & 0 & 1 & 0.111111111111111\\end{matrix}\\right]$"
      ],
      "text/plain": [
       "Matrix([\n",
       "[1, 0, 0, 0.638888888888889],\n",
       "[0, 1, 0,              0.25],\n",
       "[0, 0, 1, 0.111111111111111]])"
      ]
     },
     "execution_count": 41,
     "metadata": {},
     "output_type": "execute_result"
    }
   ],
   "source": [
    "# In one go:\n",
    "(P.T - eye(P.shape[0]))[0:-1,:].row_join(zeros(P.shape[0]-1, 1)).col_join(ones(1,P.shape[1]+1)).rref()[0]"
   ]
  }
 ],
 "metadata": {
  "kernelspec": {
   "display_name": "Python 3 (ipykernel)",
   "language": "python",
   "name": "python3"
  },
  "language_info": {
   "codemirror_mode": {
    "name": "ipython",
    "version": 3
   },
   "file_extension": ".py",
   "mimetype": "text/x-python",
   "name": "python",
   "nbconvert_exporter": "python",
   "pygments_lexer": "ipython3",
   "version": "3.11.1"
  }
 },
 "nbformat": 4,
 "nbformat_minor": 5
}
