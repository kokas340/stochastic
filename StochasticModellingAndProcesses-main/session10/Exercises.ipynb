{
 "cells": [
  {
   "cell_type": "code",
   "execution_count": 2,
   "id": "75766378",
   "metadata": {},
   "outputs": [],
   "source": [
    "from sympy import Matrix\n",
    "from sympy import Rational as R"
   ]
  },
  {
   "cell_type": "code",
   "execution_count": 2,
   "id": "88265518",
   "metadata": {},
   "outputs": [
    {
     "data": {
      "text/latex": [
       "$\\displaystyle \\left[\\begin{matrix}0.1 & 0.5 & 0.4 & 0 & 0 & 0\\\\0.2 & 0.3 & 0 & 0.1 & 0.4 & 0\\\\0.1 & 0 & 0.2 & 0 & 0 & 0.7\\\\0 & 0.3 & 0 & 0.2 & 0 & 0.5\\\\0 & 0.4 & 0 & 0 & 0.3 & 0.3\\\\0 & 0 & 0.2 & 0.2 & 0.2 & 0.4\\end{matrix}\\right]$"
      ],
      "text/plain": [
       "Matrix([\n",
       "[0.1, 0.5, 0.4,   0,   0,   0],\n",
       "[0.2, 0.3,   0, 0.1, 0.4,   0],\n",
       "[0.1,   0, 0.2,   0,   0, 0.7],\n",
       "[  0, 0.3,   0, 0.2,   0, 0.5],\n",
       "[  0, 0.4,   0,   0, 0.3, 0.3],\n",
       "[  0,   0, 0.2, 0.2, 0.2, 0.4]])"
      ]
     },
     "execution_count": 2,
     "metadata": {},
     "output_type": "execute_result"
    }
   ],
   "source": [
    "# Ex 1\n",
    "P1 = Matrix([[0.1,0.5,0.4,0,0,0],[0.2,0.3,0.0,0.1,0.4,0],[0.1,0,0.2,0,0,0.7],[0,0.3,0,0.2,0,0.5],[0,0.4,0,0,0.3,0.3],[0,0,0.2,0.2,0.2,0.4]])\n",
    "P1"
   ]
  },
  {
   "cell_type": "code",
   "execution_count": 3,
   "id": "7dcb0ee7",
   "metadata": {},
   "outputs": [
    {
     "data": {
      "text/latex": [
       "$\\displaystyle \\left[\\begin{matrix}0.9 & 0.03 & 0.07\\\\0.1 & 0.7 & 0.2\\\\0.1 & 0.1 & 0.8\\end{matrix}\\right]$"
      ],
      "text/plain": [
       "Matrix([\n",
       "[0.9, 0.03, 0.07],\n",
       "[0.1,  0.7,  0.2],\n",
       "[0.1,  0.1,  0.8]])"
      ]
     },
     "execution_count": 3,
     "metadata": {},
     "output_type": "execute_result"
    }
   ],
   "source": [
    "# Ex 2\n",
    "P2 = Matrix([[0.9,0.03,0.07],[0.1,0.7,0.2],[0.1,0.1,0.8]])\n",
    "P2"
   ]
  },
  {
   "cell_type": "code",
   "execution_count": 5,
   "id": "d545384e",
   "metadata": {},
   "outputs": [
    {
     "data": {
      "text/latex": [
       "$\\displaystyle \\left[\\begin{matrix}0 & 1\\\\\\frac{1}{2} & \\frac{1}{2}\\end{matrix}\\right]$"
      ],
      "text/plain": [
       "Matrix([\n",
       "[  0,   1],\n",
       "[1/2, 1/2]])"
      ]
     },
     "metadata": {},
     "output_type": "display_data"
    },
    {
     "data": {
      "text/latex": [
       "$\\displaystyle \\left[\\begin{matrix}\\frac{3}{8} & \\frac{5}{8}\\end{matrix}\\right]$"
      ],
      "text/plain": [
       "Matrix([[3/8, 5/8]])"
      ]
     },
     "metadata": {},
     "output_type": "display_data"
    },
    {
     "data": {
      "text/latex": [
       "$\\displaystyle \\left[\\begin{matrix}\\frac{3}{8} & \\frac{5}{8}\\\\\\frac{5}{16} & \\frac{11}{16}\\end{matrix}\\right]$"
      ],
      "text/plain": [
       "Matrix([\n",
       "[ 3/8,   5/8],\n",
       "[5/16, 11/16]])"
      ]
     },
     "metadata": {},
     "output_type": "display_data"
    }
   ],
   "source": [
    "# Ex 3\n",
    "# a)\n",
    "P3 = Matrix([[0,1],[R(1,2),R(1,2)]])\n",
    "display(P3)\n",
    "\n",
    "# b)\n",
    "p0 = Matrix([R(1,2),R(1,2)]).T\n",
    "display(p0 * P3**2)\n",
    "\n",
    "# c)\n",
    "display(P3**4)"
   ]
  },
  {
   "cell_type": "code",
   "execution_count": 3,
   "id": "d6c03390",
   "metadata": {},
   "outputs": [
    {
     "data": {
      "text/latex": [
       "$\\displaystyle \\left[\\begin{matrix}\\frac{1}{2}\\\\\\frac{1}{2}\\end{matrix}\\right]$"
      ],
      "text/plain": [
       "Matrix([\n",
       "[1/2],\n",
       "[1/2]])"
      ]
     },
     "execution_count": 3,
     "metadata": {},
     "output_type": "execute_result"
    }
   ],
   "source": [
    "Matrix([R(1,2),R(1,2)])"
   ]
  },
  {
   "cell_type": "code",
   "execution_count": 17,
   "id": "f6717400",
   "metadata": {},
   "outputs": [
    {
     "data": {
      "text/latex": [
       "$\\displaystyle \\left[\\begin{matrix}0.7 & 0.2 & 0.1\\\\0.5 & 0.4 & 0.1\\\\0.2 & 0.2 & 0.6\\end{matrix}\\right]$"
      ],
      "text/plain": [
       "Matrix([\n",
       "[0.7, 0.2, 0.1],\n",
       "[0.5, 0.4, 0.1],\n",
       "[0.2, 0.2, 0.6]])"
      ]
     },
     "metadata": {},
     "output_type": "display_data"
    },
    {
     "data": {
      "text/latex": [
       "$\\displaystyle \\left[\\begin{matrix}0.61 & 0.24 & 0.15\\\\0.57 & 0.28 & 0.15\\\\0.36 & 0.24 & 0.4\\end{matrix}\\right]$"
      ],
      "text/plain": [
       "Matrix([\n",
       "[0.61, 0.24, 0.15],\n",
       "[0.57, 0.28, 0.15],\n",
       "[0.36, 0.24,  0.4]])"
      ]
     },
     "metadata": {},
     "output_type": "display_data"
    },
    {
     "data": {
      "text/latex": [
       "$\\displaystyle \\left[\\begin{matrix}0.577 & 0.248 & 0.175\\\\0.569 & 0.256 & 0.175\\\\0.452 & 0.248 & 0.3\\end{matrix}\\right]$"
      ],
      "text/plain": [
       "Matrix([\n",
       "[0.577, 0.248, 0.175],\n",
       "[0.569, 0.256, 0.175],\n",
       "[0.452, 0.248,   0.3]])"
      ]
     },
     "metadata": {},
     "output_type": "display_data"
    },
    {
     "data": {
      "text/latex": [
       "$\\displaystyle \\left[\\begin{matrix}0.5621 & 0.2504 & 0.1875\\end{matrix}\\right]$"
      ],
      "text/plain": [
       "Matrix([[0.5621, 0.2504, 0.1875]])"
      ]
     },
     "metadata": {},
     "output_type": "display_data"
    }
   ],
   "source": [
    "# Ex 4\n",
    "P4 = Matrix([[0.7,0.2,0.1],[0.5,0.4,0.1],[0.2,0.2,0.6]])\n",
    "display(P4)\n",
    "\n",
    "# a)\n",
    "display(P4**2)\n",
    "\n",
    "# b)\n",
    "# same\n",
    "\n",
    "# c)\n",
    "# same\n",
    "\n",
    "# d)\n",
    "display(P4**3)\n",
    "\n",
    "# e)\n",
    "p0 = Matrix([0.6, 0.3, 0.1]).T\n",
    "display(p0*P4**3)"
   ]
  },
  {
   "cell_type": "code",
   "execution_count": 19,
   "id": "99bf5927",
   "metadata": {},
   "outputs": [
    {
     "data": {
      "text/latex": [
       "$\\displaystyle \\left[\\begin{matrix}0.495 & 0.2875 & 0.2175\\\\0.4125 & 0.31 & 0.2775\\\\0.3725 & 0.2875 & 0.34\\end{matrix}\\right]$"
      ],
      "text/plain": [
       "Matrix([\n",
       "[ 0.495, 0.2875, 0.2175],\n",
       "[0.4125,   0.31, 0.2775],\n",
       "[0.3725, 0.2875,   0.34]])"
      ]
     },
     "execution_count": 19,
     "metadata": {},
     "output_type": "execute_result"
    }
   ],
   "source": [
    "# Ex 5\n",
    "P5 = Matrix([[0.3,0.25,0.45],[0.45,0.4,0.15],[0.65,0.25,0.1]])\n",
    "P5**2\n"
   ]
  },
  {
   "cell_type": "code",
   "execution_count": 4,
   "id": "2848c509",
   "metadata": {},
   "outputs": [
    {
     "data": {
      "text/latex": [
       "$\\displaystyle \\left[\\begin{matrix}0.385 & 0.336 & 0.279\\end{matrix}\\right]$"
      ],
      "text/plain": [
       "Matrix([[0.385, 0.336, 0.279]])"
      ]
     },
     "metadata": {},
     "output_type": "display_data"
    },
    {
     "data": {
      "text/plain": [
       "0.004800000000000001"
      ]
     },
     "metadata": {},
     "output_type": "display_data"
    }
   ],
   "source": [
    "# Ex 6\n",
    "P6 = Matrix([[0.1,0.5,0.4],[0.6,0.2,0.2],[0.3,0.4,0.3]])\n",
    "p0 = Matrix([0.7, 0.2, 0.1]).T\n",
    "\n",
    "# a)\n",
    "display(p0*P6**2)\n",
    "\n",
    "# b)\n",
    "display(0.2*0.2*0.3*0.4)"
   ]
  }
 ],
 "metadata": {
  "kernelspec": {
   "display_name": "Python 3 (ipykernel)",
   "language": "python",
   "name": "python3"
  },
  "language_info": {
   "codemirror_mode": {
    "name": "ipython",
    "version": 3
   },
   "file_extension": ".py",
   "mimetype": "text/x-python",
   "name": "python",
   "nbconvert_exporter": "python",
   "pygments_lexer": "ipython3",
   "version": "3.11.1"
  }
 },
 "nbformat": 4,
 "nbformat_minor": 5
}
